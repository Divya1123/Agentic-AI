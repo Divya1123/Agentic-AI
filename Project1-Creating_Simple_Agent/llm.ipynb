{
 "cells": [
  {
   "cell_type": "markdown",
   "id": "0cafcbb7",
   "metadata": {},
   "source": [
    "### Agent Using LangChain\n",
    "- Here we will be creating a simple agent that is going to call a publicly available search tool (called tavilty).\n",
    "- Based on user prompt, agent decides on it's own which tool to call.\n",
    "- It will have convo memory to support multi-turn conversation."
   ]
  },
  {
   "cell_type": "code",
   "execution_count": 7,
   "id": "0b756575",
   "metadata": {},
   "outputs": [],
   "source": [
    "#%pip install langchain langchain-openai langgraph"
   ]
  },
  {
   "cell_type": "markdown",
   "id": "11317557",
   "metadata": {},
   "source": [
    "### Import Packages"
   ]
  },
  {
   "cell_type": "markdown",
   "id": "088bc306",
   "metadata": {},
   "source": []
  },
  {
   "cell_type": "code",
   "execution_count": 8,
   "id": "be883a43",
   "metadata": {},
   "outputs": [],
   "source": [
    "from dotenv import load_dotenv\n",
    "import os"
   ]
  },
  {
   "cell_type": "code",
   "execution_count": 9,
   "id": "fb048f3c",
   "metadata": {},
   "outputs": [],
   "source": [
    "load_dotenv('config.env')\n",
    "openai_api_key = os.getenv('OPENAI_API_KEY')"
   ]
  },
  {
   "cell_type": "code",
   "execution_count": 10,
   "id": "4a621a72",
   "metadata": {},
   "outputs": [
    {
     "ename": "ModuleNotFoundError",
     "evalue": "No module named 'tool'",
     "output_type": "error",
     "traceback": [
      "\u001b[31m---------------------------------------------------------------------------\u001b[39m",
      "\u001b[31mModuleNotFoundError\u001b[39m                       Traceback (most recent call last)",
      "\u001b[36mCell\u001b[39m\u001b[36m \u001b[39m\u001b[32mIn[10]\u001b[39m\u001b[32m, line 2\u001b[39m\n\u001b[32m      1\u001b[39m \u001b[38;5;28;01mfrom\u001b[39;00m \u001b[34;01mlangchain\u001b[39;00m\u001b[34;01m.\u001b[39;00m\u001b[34;01mchat_models\u001b[39;00m \u001b[38;5;28;01mimport\u001b[39;00m init_chat_model\n\u001b[32m----> \u001b[39m\u001b[32m2\u001b[39m \u001b[38;5;28;01mfrom\u001b[39;00m \u001b[34;01mtool\u001b[39;00m \u001b[38;5;28;01mimport\u001b[39;00m get_agent_tools\n\u001b[32m      4\u001b[39m \u001b[38;5;28;01mdef\u001b[39;00m \u001b[34mllm_response\u001b[39m(user_query):\n\u001b[32m      6\u001b[39m     model = init_chat_model(\n\u001b[32m      7\u001b[39m         \u001b[33m'\u001b[39m\u001b[33mgpt-4o\u001b[39m\u001b[33m'\u001b[39m,\n\u001b[32m      8\u001b[39m         model_provider = \u001b[33m'\u001b[39m\u001b[33mopenai\u001b[39m\u001b[33m'\u001b[39m,\n\u001b[32m      9\u001b[39m         api_key = openai_api_key\n\u001b[32m     10\u001b[39m     )\n",
      "\u001b[31mModuleNotFoundError\u001b[39m: No module named 'tool'"
     ]
    }
   ],
   "source": [
    "from langchain.chat_models import init_chat_model\n",
    "from tool import get_agent_tools\n",
    "\n",
    "def llm_response(user_query):\n",
    "\n",
    "    model = init_chat_model(\n",
    "        'gpt-4o',\n",
    "        model_provider = 'openai',\n",
    "        api_key = openai_api_key\n",
    "    )\n",
    "\n",
    "    # fetch tools\n",
    "    tools = get_agent_tools\n",
    "\n",
    "    # bind the tools to the model\n",
    "    model_with_tools = model.bind_tools(tools)\n",
    "\n",
    "    # send user query\n",
    "    response = model_with_tools.invoke([\n",
    "        {\n",
    "            \"role\" : \"user\",\n",
    "            \"content\" : user_query\n",
    "        }\n",
    "    ])\n",
    "\n",
    "    print(f\"Message content: {response.text()}\\n\")\n",
    "    print(f\"Tool calls: {response.tool_calls}\")"
   ]
  },
  {
   "cell_type": "code",
   "execution_count": null,
   "id": "10041412",
   "metadata": {},
   "outputs": [],
   "source": []
  }
 ],
 "metadata": {
  "kernelspec": {
   "display_name": "Python 3",
   "language": "python",
   "name": "python3"
  },
  "language_info": {
   "codemirror_mode": {
    "name": "ipython",
    "version": 3
   },
   "file_extension": ".py",
   "mimetype": "text/x-python",
   "name": "python",
   "nbconvert_exporter": "python",
   "pygments_lexer": "ipython3",
   "version": "3.11.2"
  }
 },
 "nbformat": 4,
 "nbformat_minor": 5
}
