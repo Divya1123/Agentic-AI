{
 "cells": [
  {
   "cell_type": "markdown",
   "id": "08315565",
   "metadata": {},
   "source": [
    "### In this file, we will be defining tools"
   ]
  },
  {
   "cell_type": "code",
   "execution_count": 1,
   "id": "0d61de8f",
   "metadata": {},
   "outputs": [],
   "source": [
    "# %pip install langchain_tavily"
   ]
  },
  {
   "cell_type": "code",
   "execution_count": 2,
   "id": "4309e8e1",
   "metadata": {},
   "outputs": [],
   "source": [
    "from langchain_tavily import TavilySearch\n",
    "from dotenv import load_dotenv\n",
    "import os\n",
    "\n",
    "load_dotenv('config.env')\n",
    "\n",
    "user_query = 'what is the weather in SF'\n",
    "\n",
    "def get_agent_tools():\n",
    "    tavily_key = os.getenv('TAVILY_API_KEY')\n",
    "    search_tool = TavilySearch(tavily_api_key = tavily_key, max_results=2)\n",
    "    # return list of tool objects\n",
    "    return [search_tool]"
   ]
  },
  {
   "cell_type": "code",
   "execution_count": null,
   "id": "4a5104ee",
   "metadata": {},
   "outputs": [],
   "source": []
  }
 ],
 "metadata": {
  "kernelspec": {
   "display_name": "Python 3",
   "language": "python",
   "name": "python3"
  },
  "language_info": {
   "codemirror_mode": {
    "name": "ipython",
    "version": 3
   },
   "file_extension": ".py",
   "mimetype": "text/x-python",
   "name": "python",
   "nbconvert_exporter": "python",
   "pygments_lexer": "ipython3",
   "version": "3.11.2"
  }
 },
 "nbformat": 4,
 "nbformat_minor": 5
}
