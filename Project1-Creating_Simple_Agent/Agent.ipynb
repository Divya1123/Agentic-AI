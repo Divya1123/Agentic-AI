{
 "cells": [
  {
   "cell_type": "markdown",
   "id": "9369a638",
   "metadata": {},
   "source": [
    "### Create the agent\n",
    "\n",
    "- We will be using LangGraph to construct an agent"
   ]
  },
  {
   "cell_type": "code",
   "execution_count": null,
   "id": "bc85e7dd",
   "metadata": {},
   "outputs": [],
   "source": [
    "from llm import llm_response\n",
    "from langgraph.prebuilt import create_react_agent\n",
    "\n",
    "agent_executer = create_react_agent(model, tools)"
   ]
  }
 ],
 "metadata": {
  "language_info": {
   "name": "python"
  }
 },
 "nbformat": 4,
 "nbformat_minor": 5
}
