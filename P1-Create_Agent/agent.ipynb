{
 "cells": [
  {
   "cell_type": "code",
   "execution_count": 7,
   "id": "5e1f75d6",
   "metadata": {},
   "outputs": [],
   "source": [
    "from dotenv import load_dotenv\n",
    "import os"
   ]
  },
  {
   "cell_type": "code",
   "execution_count": 9,
   "id": "21772ef4",
   "metadata": {},
   "outputs": [],
   "source": [
    "load_dotenv('config.env')\n",
    "tavily_api_key = os.getenv('TAVILY_API_KEY')\n",
    "openai_api_key = os.getenv('OPENAI_API_KEY')"
   ]
  },
  {
   "cell_type": "markdown",
   "id": "6abf7e87",
   "metadata": {},
   "source": [
    "### Define Tools\n",
    "- Here we are using only 1 tool - Tavily Search"
   ]
  },
  {
   "cell_type": "code",
   "execution_count": 10,
   "id": "51bd90cf",
   "metadata": {},
   "outputs": [],
   "source": [
    "from langchain_tavily import TavilySearch\n",
    "\n",
    "search_tool = TavilySearch(tavily_api_key = tavily_api_key, max_results = 2)\n",
    "\n",
    "tools = [search_tool]"
   ]
  },
  {
   "cell_type": "markdown",
   "id": "dd1b6947",
   "metadata": {},
   "source": [
    "### Define LLM\n",
    "- here we are using OpenAI's gpt-4o model "
   ]
  },
  {
   "cell_type": "code",
   "execution_count": 11,
   "id": "92e24f68",
   "metadata": {},
   "outputs": [],
   "source": [
    "from langchain.chat_models import init_chat_model\n",
    "\n",
    "model = init_chat_model(\n",
    "    'gpt-4o',\n",
    "    model_provider = 'openai',\n",
    "    api_key = openai_api_key\n",
    ")"
   ]
  },
  {
   "cell_type": "markdown",
   "id": "74051496",
   "metadata": {},
   "source": [
    "### Creating Agent\n",
    "- This agent will be using defined tool and llm model.\n",
    "- Use will use create_react_agent class of langGraph package. This class uses .bind_tools under the hood, to connect model with defined tools."
   ]
  },
  {
   "cell_type": "code",
   "execution_count": 12,
   "id": "7160aab6",
   "metadata": {},
   "outputs": [],
   "source": [
    "from langgraph.prebuilt import create_react_agent\n",
    "\n",
    "agent = create_react_agent(model, tools)"
   ]
  },
  {
   "cell_type": "code",
   "execution_count": 13,
   "id": "f9b2f8bf",
   "metadata": {},
   "outputs": [],
   "source": [
    "input_message = {\n",
    "    \"role\" : \"user\",\n",
    "    \"content\" : \"Hi\"\n",
    "}"
   ]
  },
  {
   "cell_type": "code",
   "execution_count": 14,
   "id": "ab6f0952",
   "metadata": {},
   "outputs": [
    {
     "name": "stdout",
     "output_type": "stream",
     "text": [
      "================================\u001b[1m Human Message \u001b[0m=================================\n",
      "\n",
      "Hi\n",
      "==================================\u001b[1m Ai Message \u001b[0m==================================\n",
      "\n",
      "Hello! How can I assist you today?\n"
     ]
    }
   ],
   "source": [
    "response = agent.invoke({\"messages\" : input_message})\n",
    "\n",
    "for message in response[\"messages\"]:\n",
    "    message.pretty_print()"
   ]
  },
  {
   "cell_type": "code",
   "execution_count": 15,
   "id": "c8399bc5",
   "metadata": {},
   "outputs": [],
   "source": [
    "input_message = {\n",
    "    \"role\" : \"user\",\n",
    "    \"content\" : \"Search for the weather in San Francisco.\"\n",
    "}"
   ]
  },
  {
   "cell_type": "code",
   "execution_count": 16,
   "id": "a9f18b28",
   "metadata": {},
   "outputs": [
    {
     "name": "stdout",
     "output_type": "stream",
     "text": [
      "================================\u001b[1m Human Message \u001b[0m=================================\n",
      "\n",
      "Search for the weather in San Francisco.\n",
      "==================================\u001b[1m Ai Message \u001b[0m==================================\n",
      "Tool Calls:\n",
      "  tavily_search (call_4QpuvPv1UaJrYHoW1sefNWxq)\n",
      " Call ID: call_4QpuvPv1UaJrYHoW1sefNWxq\n",
      "  Args:\n",
      "    query: San Francisco current weather\n",
      "    search_depth: basic\n",
      "=================================\u001b[1m Tool Message \u001b[0m=================================\n",
      "Name: tavily_search\n",
      "\n",
      "{\"query\": \"San Francisco current weather\", \"follow_up_questions\": null, \"answer\": null, \"images\": [], \"results\": [{\"title\": \"Weather in San Francisco\", \"url\": \"https://www.weatherapi.com/\", \"content\": \"{'location': {'name': 'San Francisco', 'region': 'California', 'country': 'United States of America', 'lat': 37.775, 'lon': -122.4183, 'tz_id': 'America/Los_Angeles', 'localtime_epoch': 1758115682, 'localtime': '2025-09-17 06:28'}, 'current': {'last_updated_epoch': 1758114900, 'last_updated': '2025-09-17 06:15', 'temp_c': 15.0, 'temp_f': 59.0, 'is_day': 0, 'condition': {'text': 'Fog', 'icon': '//cdn.weatherapi.com/weather/64x64/night/248.png', 'code': 1135}, 'wind_mph': 2.5, 'wind_kph': 4.0, 'wind_degree': 234, 'wind_dir': 'SW', 'pressure_mb': 1015.0, 'pressure_in': 29.96, 'precip_mm': 0.0, 'precip_in': 0.0, 'humidity': 96, 'cloud': 25, 'feelslike_c': 15.7, 'feelslike_f': 60.2, 'windchill_c': 13.1, 'windchill_f': 55.5, 'heatindex_c': 13.1, 'heatindex_f': 55.5, 'dewpoint_c': 12.7, 'dewpoint_f': 54.8, 'vis_km': 16.0, 'vis_miles': 9.0, 'uv': 0.0, 'gust_mph': 5.2, 'gust_kph': 8.3}}\", \"score\": 0.9927674, \"raw_content\": null}, {\"url\": \"https://weathershogun.com/weather/usa/ca/san-francisco/480/september/2025-09-17\", \"title\": \"Wednesday, September 17, 2025. San Francisco, CA - Weather ...\", \"content\": \"San Francisco, California Weather: Wednesday, September 17, 2025. Day 75°. Night 59°. Precipitation 0 %. Wind 8 mph. UV Index (0 - 11+) 11\", \"score\": 0.95154464, \"raw_content\": null}], \"response_time\": 1.49, \"request_id\": \"fc7aa823-884b-4c5e-a1ec-d41ef546ea3b\"}\n",
      "==================================\u001b[1m Ai Message \u001b[0m==================================\n",
      "\n",
      "The current weather in San Francisco is foggy, with a temperature of 59°F (15°C). The wind is coming from the southwest at about 2.5 mph (4.0 kph), with a humidity level of 96%. \n",
      "\n",
      "For more details, you can visit the following links:\n",
      "- [Weather in San Francisco - WeatherAPI](https://www.weatherapi.com/)\n",
      "- [San Francisco Weather on September 17, 2025 - WeatherShogun](https://weathershogun.com/weather/usa/ca/san-francisco/480/september/2025-09-17)\n"
     ]
    }
   ],
   "source": [
    "response = agent.invoke({\"messages\" : input_message})\n",
    "\n",
    "for message in response[\"messages\"]:\n",
    "    message.pretty_print()"
   ]
  },
  {
   "cell_type": "code",
   "execution_count": null,
   "id": "27b9e048",
   "metadata": {},
   "outputs": [],
   "source": []
  }
 ],
 "metadata": {
  "kernelspec": {
   "display_name": "Python 3",
   "language": "python",
   "name": "python3"
  },
  "language_info": {
   "codemirror_mode": {
    "name": "ipython",
    "version": 3
   },
   "file_extension": ".py",
   "mimetype": "text/x-python",
   "name": "python",
   "nbconvert_exporter": "python",
   "pygments_lexer": "ipython3",
   "version": "3.11.2"
  }
 },
 "nbformat": 4,
 "nbformat_minor": 5
}
