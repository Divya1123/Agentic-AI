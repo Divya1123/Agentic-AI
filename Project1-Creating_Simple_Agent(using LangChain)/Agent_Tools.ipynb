{
 "cells": [
  {
   "cell_type": "markdown",
   "id": "08315565",
   "metadata": {},
   "source": [
    "### In this file, we will be defining tools"
   ]
  },
  {
   "cell_type": "code",
   "execution_count": 2,
   "id": "0d61de8f",
   "metadata": {},
   "outputs": [],
   "source": [
    "# %pip install langchain_tavily"
   ]
  },
  {
   "cell_type": "code",
   "execution_count": null,
   "id": "4309e8e1",
   "metadata": {},
   "outputs": [
    {
     "name": "stdout",
     "output_type": "stream",
     "text": [
      "{'query': 'what is the weather in SF', 'follow_up_questions': None, 'answer': None, 'images': [], 'results': [{'title': 'Weather in San Francisco', 'url': 'https://www.weatherapi.com/', 'content': \"{'location': {'name': 'San Francisco', 'region': 'California', 'country': 'United States of America', 'lat': 37.775, 'lon': -122.4183, 'tz_id': 'America/Los_Angeles', 'localtime_epoch': 1758082177, 'localtime': '2025-09-16 21:09'}, 'current': {'last_updated_epoch': 1758081600, 'last_updated': '2025-09-16 21:00', 'temp_c': 17.2, 'temp_f': 63.0, 'is_day': 0, 'condition': {'text': 'Mist', 'icon': '//cdn.weatherapi.com/weather/64x64/night/143.png', 'code': 1030}, 'wind_mph': 5.1, 'wind_kph': 8.3, 'wind_degree': 257, 'wind_dir': 'WSW', 'pressure_mb': 1013.0, 'pressure_in': 29.91, 'precip_mm': 0.0, 'precip_in': 0.0, 'humidity': 87, 'cloud': 25, 'feelslike_c': 17.2, 'feelslike_f': 63.0, 'windchill_c': 14.2, 'windchill_f': 57.5, 'heatindex_c': 14.4, 'heatindex_f': 57.9, 'dewpoint_c': 13.3, 'dewpoint_f': 55.9, 'vis_km': 16.0, 'vis_miles': 9.0, 'uv': 0.0, 'gust_mph': 10.8, 'gust_kph': 17.4}}\", 'score': 0.9560071, 'raw_content': None}, {'url': 'https://weathershogun.com/weather/usa/ca/san-francisco/480/september/2025-09-17', 'title': 'Wednesday, September 17, 2025. San Francisco, CA - Weather ...', 'content': 'San Francisco, California Weather: Wednesday, September 17, 2025. Day 75°. Night 59°. Precipitation 0 %. Wind 8 mph. UV Index (0 - 11+) 11', 'score': 0.94933707, 'raw_content': None}], 'response_time': 1.65, 'request_id': '54b25348-fec2-4dae-963e-f04b8e197d27'}\n"
     ]
    }
   ],
   "source": [
    "from langchain_tavily import TavilySearch\n",
    "from dotenv import load_dotenv\n",
    "import os\n",
    "\n",
    "load_dotenv('config.env')\n",
    "\n",
    "user_query = 'what is the weather in SF'\n",
    "\n",
    "def agent_tools(user_query):\n",
    "    tavily_key = os.getenv('TAVILY_API_KEY')\n",
    "    search = TavilySearch(tavily_api_key = tavily_key, max_results=2)\n",
    "    search_results = search.invoke(user_query)\n",
    "    print(search_results)\n",
    "\n",
    "    tools = [search]\n",
    "\n",
    "agent_tools(user_query)"
   ]
  },
  {
   "cell_type": "code",
   "execution_count": null,
   "id": "4a5104ee",
   "metadata": {},
   "outputs": [],
   "source": []
  }
 ],
 "metadata": {
  "kernelspec": {
   "display_name": "Python 3",
   "language": "python",
   "name": "python3"
  },
  "language_info": {
   "codemirror_mode": {
    "name": "ipython",
    "version": 3
   },
   "file_extension": ".py",
   "mimetype": "text/x-python",
   "name": "python",
   "nbconvert_exporter": "python",
   "pygments_lexer": "ipython3",
   "version": "3.11.2"
  }
 },
 "nbformat": 4,
 "nbformat_minor": 5
}
