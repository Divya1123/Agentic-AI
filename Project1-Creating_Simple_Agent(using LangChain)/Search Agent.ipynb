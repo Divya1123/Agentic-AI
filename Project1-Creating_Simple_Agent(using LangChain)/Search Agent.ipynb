{
 "cells": [
  {
   "cell_type": "markdown",
   "id": "0cafcbb7",
   "metadata": {},
   "source": [
    "### Agent Using LangChain\n",
    "- Here we will be creating a simple agent that is going to call a publicly available search tool (called tavilty).\n",
    "- Based on user prompt, agent decides on it's own which tool to call.\n",
    "- It will have convo memory to support multi-turn conversation."
   ]
  },
  {
   "cell_type": "code",
   "execution_count": 4,
   "id": "0b756575",
   "metadata": {},
   "outputs": [],
   "source": [
    "#%pip install langchain langchain-openai langgraph"
   ]
  },
  {
   "cell_type": "markdown",
   "id": "11317557",
   "metadata": {},
   "source": [
    "### Import Packages"
   ]
  },
  {
   "cell_type": "markdown",
   "id": "088bc306",
   "metadata": {},
   "source": []
  },
  {
   "cell_type": "code",
   "execution_count": 2,
   "id": "be883a43",
   "metadata": {},
   "outputs": [],
   "source": [
    "from dotenv import load_dotenv\n",
    "import os"
   ]
  },
  {
   "cell_type": "code",
   "execution_count": null,
   "id": "fb048f3c",
   "metadata": {},
   "outputs": [],
   "source": [
    "openai_api_key = os.getenv('OPENAI_API_KEY')"
   ]
  },
  {
   "cell_type": "code",
   "execution_count": null,
   "id": "4a621a72",
   "metadata": {},
   "outputs": [],
   "source": []
  }
 ],
 "metadata": {
  "kernelspec": {
   "display_name": "Python 3",
   "language": "python",
   "name": "python3"
  },
  "language_info": {
   "codemirror_mode": {
    "name": "ipython",
    "version": 3
   },
   "file_extension": ".py",
   "mimetype": "text/x-python",
   "name": "python",
   "nbconvert_exporter": "python",
   "pygments_lexer": "ipython3",
   "version": "3.11.2"
  }
 },
 "nbformat": 4,
 "nbformat_minor": 5
}
